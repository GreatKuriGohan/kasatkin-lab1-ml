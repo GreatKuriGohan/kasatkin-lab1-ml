{
  "cells": [
    {
      "cell_type": "markdown",
      "metadata": {
        "id": "vC84e9kzyxPy"
      },
      "source": [
        "<h1>Импорт библиотек"
      ]
    },
    {
      "cell_type": "code",
      "execution_count": 3,
      "metadata": {
        "id": "cgKeNegmQG5S"
      },
      "outputs": [],
      "source": [
        "import numpy as np\n",
        "import matplotlib.pyplot as plt"
      ]
    },
    {
      "cell_type": "markdown",
      "metadata": {
        "id": "qFM9uVU2x4Ls"
      },
      "source": [
        "<h1>Задача 1. Дан набор из $p$ матриц размерностью $(n, n)$ и $p$ векторов размерностью $(n, 1)$, найти сумму произведений матриц на векторы. Написать тесты для кода"
      ]
    },
    {
      "cell_type": "code",
      "execution_count": 10,
      "metadata": {
        "id": "IAbUvEiYyWFF"
      },
      "outputs": [
        {
          "name": "stdout",
          "output_type": "stream",
          "text": [
            "Тесты пройдены.\n"
          ]
        }
      ],
      "source": [
        "import numpy as np\n",
        "\n",
        "def sum_prod(X, V):\n",
        "    '''\n",
        "    X - матрицы (n, n)\n",
        "    V - векторы (n, 1)\n",
        "    Гарантируется, что len(X) == len(V)\n",
        "    '''\n",
        "    result = np.zeros_like(V[0])\n",
        "    for i in range(len(V)):\n",
        "        result += np.dot(X[i], V[i])\n",
        "\n",
        "    return result\n",
        "\n",
        "def tests():\n",
        "        X = [np.array([[1, 2], [3, 4]]), np.array([[5, 6], [7, 8]])]\n",
        "        V = [np.array([[1], [1]]), np.array([[1], [1]])]\n",
        "        result = sum_prod(X, V)\n",
        "        expected = np.array([[14], [22]])  \n",
        "        assert np.array_equal(result, expected)\n",
        "        print(\"Тесты пройдены.\")\n",
        "\n",
        "tests()\n"
      ]
    },
    {
      "cell_type": "markdown",
      "metadata": {
        "id": "TKwPG4fIy2w4"
      },
      "source": [
        "<h1>Задача 2. Дана матрица M, напишите функцию, которая бинаризует матрицу по некоторому threshold (то есть, все значения большие threshold становятся равными 1, иначе 0). Напишите тесты для кода"
      ]
    },
    {
      "cell_type": "code",
      "execution_count": 9,
      "metadata": {
        "id": "KQDNMgsjRNH7"
      },
      "outputs": [
        {
          "name": "stdout",
          "output_type": "stream",
          "text": [
            "Тесты пройдены.\n"
          ]
        }
      ],
      "source": [
        "import numpy as np\n",
        "\n",
        "def binarize(M, threshold=0.5):\n",
        "    binary_matrix = np.where(M > threshold, 1, 0)\n",
        "    return binary_matrix\n",
        "\n",
        "def test():\n",
        "    threshold = 0.5\n",
        "    M = np.array([[0.2, 0.7, 0.8], [0.4, 0.9, 0.1]])\n",
        "\n",
        "    expected_result = np.array([[0, 1, 1], [0, 1, 0]])\n",
        "    assert np.allclose(binarize(M, threshold), expected_result)\n",
        "\n",
        "    M2 = np.array([[1.2, 0.3], [0.6, 0.8]])\n",
        "\n",
        "    expected_result = np.array([[1, 0], [1, 1]])\n",
        "    assert np.allclose(binarize(M2, threshold), expected_result)\n",
        "\n",
        "    print(\"Тесты пройдены.\")\n",
        "\n",
        "test()"
      ]
    },
    {
      "cell_type": "markdown",
      "metadata": {
        "id": "IY5L-h-7zWhN"
      },
      "source": [
        "<h1>Задача 3. Напишите функцию, которая возвращает уникальные элементы из каждой строки матрицы. Напишите такую же функцию, но для столбцов. Напишите тесты для кода"
      ]
    },
    {
      "cell_type": "code",
      "execution_count": 11,
      "metadata": {
        "id": "-8dEZhR0SBC-"
      },
      "outputs": [
        {
          "name": "stdout",
          "output_type": "stream",
          "text": [
            "Тесты строк пройдены.\n",
            "Тесты столбцов пройдены.\n"
          ]
        }
      ],
      "source": [
        "import numpy as np\n",
        "\n",
        "def unique_rows(mat):\n",
        "    return np.array([np.unique(row) for row in mat])\n",
        "\n",
        "def unique_columns(mat):\n",
        "    return [np.unique(column) for column in mat.T]\n",
        "\n",
        "def tests_rows():\n",
        "    M = np.array([[1, 2, 2], [3, 4, 4], [5, 6, 5]])\n",
        "    expected = np.array([[1, 2], [3, 4], [5, 6]]) \n",
        "    assert np.array_equal(unique_rows(M), expected)\n",
        "    M = np.array([[2, 2, 2], [2, 2, 2], [2, 2, 2]])\n",
        "    expected = np.array([[2], [2], [2]])\n",
        "    assert np.array_equal(unique_rows(M), expected)\n",
        "    print('Тесты строк пройдены.')\n",
        "\n",
        "def tests_columns():\n",
        "    M = np.array([[1, 2, 2], [3, 4, 4], [5, 6, 5]])\n",
        "    expected = np.array([[1, 3, 5],[2, 4, 6],[2, 4, 5]])\n",
        "    assert np.array_equal(unique_columns(M), expected)\n",
        "    M = np.array([[2, 2, 2], [2, 2, 2], [2, 2, 2]])\n",
        "    expected = np.array([[2], [2], [2]])\n",
        "    assert np.array_equal(unique_columns(M), expected)\n",
        "    print('Тесты столбцов пройдены.')\n",
        "\n",
        "tests_rows()\n",
        "tests_columns()"
      ]
    },
    {
      "cell_type": "markdown",
      "metadata": {
        "id": "roYAlo4Jz-lH"
      },
      "source": [
        "<h1>Задача 4. Напишите функцию, которая заполняет матрицу с размерами $(m, n)$ случайными числами, распределенными по нормальному закону. Затем считает мат. ожидание и дисперсию для каждого из столбцов и строк, а также строит для каждой строки и столбца гистограмму значений (использовать функцию hist из модуля matplotlib.plot)"
      ]
    },
    {
      "cell_type": "code",
      "execution_count": 12,
      "metadata": {
        "id": "nZK_71hMSQzv"
      },
      "outputs": [
        {
          "name": "stdout",
          "output_type": "stream",
          "text": [
            "Мат ожидание по столбцам: [ 0.28137082 -0.08465539 -0.70805754 -0.074066  ]\n",
            "Дисперсия по столбцам: [0.17408553 0.39765395 1.65788275 0.43363072]\n",
            "Мат ожидание по строкам: [-0.75816128 -0.2383065  -0.22024292  0.6313026 ]\n",
            "Дисперсия по строкам: [0.3866681  0.9342021  0.42833084 0.42857081]\n"
          ]
        },
        {
          "data": {
            "image/png": "[encoded data removed]",
            "text/plain": [
              "<Figure size 1500x800 with 8 Axes>"
            ]
          },
          "metadata": {},
          "output_type": "display_data"
        }
      ],
      "source": [
        "import matplotlib.pyplot as plt\n",
        "\n",
        "def fill_matrix_and_analyze(m, n):\n",
        "    M = np.random.normal(size=(m, n))\n",
        "    \n",
        "    means_columns = np.mean(M, axis=0)\n",
        "    variances_columns = np.var(M, axis=0)\n",
        "    means_rows = np.mean(M, axis=1)\n",
        "    variances_rows = np.var(M, axis=1)\n",
        "\n",
        "    print(\"Мат ожидание по столбцам:\", means_columns)\n",
        "    print(\"Дисперсия по столбцам:\", variances_columns)\n",
        "    print(\"Мат ожидание по строкам:\", means_rows)\n",
        "    print(\"Дисперсия по строкам:\", variances_rows)\n",
        "\n",
        "    # Построение гистограмм\n",
        "    fig, axes = plt.subplots(2, n, figsize=(15, 8))\n",
        "    \n",
        "    # Гистограммы столбцов\n",
        "    for i in range(n):\n",
        "        axes[0, i].hist(M[:, i], bins=10, color='blue', edgecolor='black', alpha=0.7)\n",
        "        axes[0, i].set_title(f'Гистограмма столбца {i+1}')\n",
        "    \n",
        "    # Гистограммы строк\n",
        "    for i in range(m):\n",
        "        axes[1, i].hist(M[i, :], bins=10, color='red', edgecolor='black', alpha=0.7)\n",
        "        axes[1, i].set_title(f'Гистограмма строки {i+1}')\n",
        "    \n",
        "    plt.tight_layout()\n",
        "    plt.show()\n",
        "\n",
        "fill_matrix_and_analyze(4,4)"
      ]
    },
    {
      "cell_type": "markdown",
      "metadata": {
        "id": "BDyATNdM0dJ2"
      },
      "source": [
        "<h1>Задача 5. Напишите функцию, которая заполняет матрицу $(m, n)$ в шахматном порядке заданными числами $a$ и $b$. Напишите тесты для кода"
      ]
    },
    {
      "cell_type": "code",
      "execution_count": 15,
      "metadata": {
        "id": "RWNJYWQGecS6"
      },
      "outputs": [
        {
          "name": "stdout",
          "output_type": "stream",
          "text": [
            "Тесты пройдены.\n"
          ]
        }
      ],
      "source": [
        "def chess(m, n, a, b):\n",
        "    matrix = [[0 for _ in range(n)] for _ in range(m)]\n",
        "    for i in range(m):\n",
        "        for j in range(n):\n",
        "            if (i + j) % 2 == 0:\n",
        "                matrix[i][j] = a\n",
        "            else:\n",
        "                matrix[i][j] = b\n",
        "    return matrix\n",
        "\n",
        "def test():\n",
        "    assert chess(2, 2, 0, 1) == [[0, 1], [1, 0]]\n",
        "    assert chess(4, 4, 6, 9) == [[6, 9, 6, 9], [9, 6, 9, 6], [6, 9, 6, 9], [9, 6, 9, 6]]\n",
        "    assert chess(3, 3, 0, 1) == [[0, 1, 0], [1, 0, 1], [0, 1, 0]]\n",
        "    print(\"Тесты пройдены.\")\n",
        "\n",
        "test()"
      ]
    },
    {
      "cell_type": "markdown",
      "metadata": {
        "id": "-ymXLtTN0vB6"
      },
      "source": [
        "<h1>Задача 6. Напишите функцию, которая отрисовывает прямоугольник с заданными размерами (a, b) на изображении размера (m, n), цвет фона задайте в схеме RGB, как и цвет прямоугольника. Цвета также должны быть параметрами функции. Напишите аналогичную функцию но для овала с полуосями a и b. Напишите тесты для кода.\n",
        "Примечание: уравнение эллипса (границы овала) можно записать как:\n",
        "<h1>$\\frac{(x-x_0)^2}{a^2}+\\frac{(y-y_0)^2}{b^2}=1$"
      ]
    },
    {
      "cell_type": "code",
      "execution_count": 32,
      "metadata": {
        "id": "sNfl1t_kfOF4"
      },
      "outputs": [
        {
          "data": {
            "image/png": "[encoded data removed]",
            "text/plain": [
              "<Figure size 640x480 with 1 Axes>"
            ]
          },
          "metadata": {},
          "output_type": "display_data"
        },
        {
          "data": {
            "image/png": "[encoded data removed]",
            "text/plain": [
              "<Figure size 640x480 with 1 Axes>"
            ]
          },
          "metadata": {},
          "output_type": "display_data"
        }
      ],
      "source": [
        "def draw_rectangle(a, b, m, n, rect_color, bg_color):\n",
        "    image = np.zeros((m, n, 3), dtype=np.uint8)\n",
        "    image[:] = bg_color\n",
        "\n",
        "    x0, y0 = (n - a) // 2, (m - b) // 2 \n",
        "    image[y0:y0+b, x0:x0+a] = rect_color\n",
        "\n",
        "    plt.imshow(image)\n",
        "    plt.axis('off')\n",
        "    plt.show()\n",
        "\n",
        "def draw_ellipse(a, b, m, n, ellipse_color, bg_color):\n",
        "    image = np.zeros((m, n, 3), dtype=np.uint8)\n",
        "    image[:] = bg_color\n",
        "    \n",
        "    y, x = np.ogrid[:m, :n]\n",
        "    x0, y0 = n // 2, m // 2\n",
        "    ellipse_mask = ((x - x0) ** 2) / a ** 2 + ((y - y0) ** 2) / b ** 2 <= 1\n",
        "    image[ellipse_mask] = ellipse_color\n",
        "\n",
        "    plt.imshow(image)\n",
        "    plt.axis('off')\n",
        "    plt.show()\n",
        "    \n",
        "draw_rectangle(200, 150, 300, 400, rect_color=(0, 185, 255), bg_color=(30, 30, 30))\n",
        "draw_ellipse(50, 110, 300, 400, ellipse_color=(125, 0, 225), bg_color=(30, 30, 30))"
      ]
    },
    {
      "cell_type": "markdown",
      "metadata": {
        "id": "S82c38oz244H"
      },
      "source": [
        "<h1>Задача 7. Дан некий временной ряд. Для данного ряда нужно найти его: математическое ожидание, дисперсию, СКО, найти все локальные максимумы и минимумы (локальный максимум - это точка, которая больше своих соседних точек, а локальный минимум - это точка, которая меньше своих соседей), а также вычислить для данного ряда другой ряд, получаемый методом скользящего среднего с размером окна $p$.\n",
        "<h1>Примечание: метод скользящего среднего подразумевает нахождение среднего из подмножетсва ряда размером $p$"
      ]
    },
    {
      "cell_type": "code",
      "execution_count": 33,
      "metadata": {
        "id": "Zb9mIVge5MMt"
      },
      "outputs": [
        {
          "name": "stdout",
          "output_type": "stream",
          "text": [
            "Мат ожидание: 4.1\n",
            "Дисперсия: 3.69\n",
            "СКО: 1.9209372712298547\n",
            "Локал максимум: [5, 6, 7]\n",
            "Локал минимум: [4, 2]\n",
            "Среднее: [2.66666667 3.66666667 5.         4.         3.66666667 4.\n",
            " 5.33333333 6.        ]\n"
          ]
        }
      ],
      "source": [
        "def calculate_statistics(series):\n",
        "    # Мат ожидание\n",
        "    mean = np.mean(series)\n",
        "    # Дисперсия\n",
        "    variance = np.var(series)\n",
        "    # Среднеквадратическое отклонение\n",
        "    std_dev = np.std(series)\n",
        "    \n",
        "    return mean, variance, std_dev\n",
        "\n",
        "def find_local_extrema(data):\n",
        "    local_max = []\n",
        "    local_min = []\n",
        "    for i in range(1, len(data) - 1):\n",
        "        if data[i] < data[i - 1] and data[i] < data[i + 1]:\n",
        "            local_min.append(int(data[i]))\n",
        "        if data[i] > data[i - 1] and data[i] > data[i + 1]:\n",
        "            local_max.append(int(data[i]))\n",
        "            \n",
        "    return local_max, local_min\n",
        "\n",
        "def calculate_smooth(data, p):\n",
        "    return np.convolve(data, np.ones(p), mode='valid') / p\n",
        "\n",
        "data = np.array([1, 2, 5, 4, 6, 2, 3, 7, 6, 5])\n",
        "p = 3\n",
        "\n",
        "local_max, local_min = find_local_extrema(data)\n",
        "smooth = calculate_smooth(data, p)\n",
        "\n",
        "print(\"Мат ожидание:\", np.mean(data))\n",
        "print(\"Дисперсия:\", np.var(data))\n",
        "print(\"СКО:\", np.std(data))\n",
        "print(\"Локал максимум:\", local_max)\n",
        "print(\"Локал минимум:\", local_min)\n",
        "print(\"Среднее:\", smooth)"
      ]
    },
    {
      "cell_type": "markdown",
      "metadata": {
        "id": "jPkylmOX5O9n"
      },
      "source": [
        "<h1> Задача 8. Дан некоторый вектор с целочисленными метками классов, напишите функцию, которая выполняет one-hot-encoding для данного вектора\n",
        "<h1> One-hot-encoding - представление, в котором на месте метки некоторого класса стоит 1, в остальных позициях стоит 0. Например для вектора [0, 2, 3, 0] one-hot-encoding выглядит как: [[1, 0, 0, 0], [0, 0, 1, 0], [0, 0, 0, 1], [1, 0, 0, 0]]"
      ]
    },
    {
      "cell_type": "code",
      "execution_count": 34,
      "metadata": {
        "id": "Y-jlnZvw56lD"
      },
      "outputs": [
        {
          "name": "stdout",
          "output_type": "stream",
          "text": [
            "Тесты пройдены.\n"
          ]
        }
      ],
      "source": [
        "def one_hot_encoding(mask):\n",
        "    n = np.max(mask) + 1\n",
        "    res = np.zeros((len(mask), n), dtype=int)\n",
        "    for i, j in enumerate(mask):\n",
        "        res[i, j] = 1\n",
        "    return res\n",
        "\n",
        "\n",
        "def tests():\n",
        "    M = np.array([0, 2, 3, 0])\n",
        "    res = one_hot_encoding(M)\n",
        "    assert np.array_equal(res, np.array([[1, 0, 0, 0], [0, 0, 1, 0], [0, 0, 0, 1], [1, 0, 0, 0]]))\n",
        "    print(\"Тесты пройдены.\")\n",
        "\n",
        "tests()"
      ]
    }
  ],
  "metadata": {
    "colab": {
      "provenance": []
    },
    "kernelspec": {
      "display_name": "Python 3",
      "name": "python3"
    },
    "language_info": {
      "codemirror_mode": {
        "name": "ipython",
        "version": 3
      },
      "file_extension": ".py",
      "mimetype": "text/x-python",
      "name": "python",
      "nbconvert_exporter": "python",
      "pygments_lexer": "ipython3",
      "version": "3.12.0"
    }
  },
  "nbformat": 4,
  "nbformat_minor": 0
}
